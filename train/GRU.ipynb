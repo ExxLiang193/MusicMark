{
  "cells": [
    {
      "cell_type": "markdown",
      "metadata": {},
      "source": [
        "# Imports"
      ]
    },
    {
      "cell_type": "code",
      "execution_count": 48,
      "metadata": {
        "id": "hMjEELbZT64c"
      },
      "outputs": [],
      "source": [
        "import matplotlib.pyplot as plt\n",
        "import numpy as np\n",
        "import pandas as pd\n",
        "import torch\n",
        "import torch.nn as nn\n",
        "from sklearn.model_selection import train_test_split\n"
      ]
    },
    {
      "cell_type": "code",
      "execution_count": 49,
      "metadata": {
        "id": "uM4hSBq5Y8lv"
      },
      "outputs": [],
      "source": [
        "import math\n",
        "import pprint\n",
        "import random\n",
        "from typing import Dict, List, Optional, Set, Tuple, Union\n",
        "\n",
        "pp = pprint.PrettyPrinter(indent=4)\n"
      ]
    },
    {
      "cell_type": "markdown",
      "metadata": {},
      "source": [
        "# Reading data"
      ]
    },
    {
      "cell_type": "code",
      "execution_count": 50,
      "metadata": {
        "id": "GZyCtjdhib3D"
      },
      "outputs": [],
      "source": [
        "N_NOTES = -1\n",
        "\n",
        "def next_n(generator, n: int) -> List[int]:\n",
        "    return [int(next(generator)) for _ in range(n)]\n",
        "\n",
        "def read_data(file_name: str) -> List[Tuple[List[int], List[int], List[int]]]:\n",
        "    sequences = list()\n",
        "    with open(file_name, \"r\") as f:\n",
        "        for line in f:\n",
        "            values = iter(line.split())\n",
        "            n_notes = int(next(values))\n",
        "            sequences.append((next_n(values, n_notes), next_n(values, n_notes - 1), next_n(values, n_notes)))\n",
        "    global N_NOTES\n",
        "    N_NOTES = n_notes\n",
        "    return sequences\n"
      ]
    },
    {
      "cell_type": "code",
      "execution_count": 51,
      "metadata": {
        "id": "vfeEfCXypEfp"
      },
      "outputs": [],
      "source": [
        "sequences = read_data(\"../data/note_sequences.txt\")\n"
      ]
    },
    {
      "cell_type": "markdown",
      "metadata": {},
      "source": [
        "# Preparing data"
      ]
    },
    {
      "cell_type": "code",
      "execution_count": 52,
      "metadata": {
        "colab": {
          "base_uri": "https://localhost:8080/",
          "height": 206
        },
        "id": "F_5JQwir7iBm",
        "outputId": "785f8a8d-f66a-477a-fa92-c53120457d39"
      },
      "outputs": [
        {
          "data": {
            "text/html": [
              "<div>\n",
              "<style scoped>\n",
              "    .dataframe tbody tr th:only-of-type {\n",
              "        vertical-align: middle;\n",
              "    }\n",
              "\n",
              "    .dataframe tbody tr th {\n",
              "        vertical-align: top;\n",
              "    }\n",
              "\n",
              "    .dataframe thead th {\n",
              "        text-align: right;\n",
              "    }\n",
              "</style>\n",
              "<table border=\"1\" class=\"dataframe\">\n",
              "  <thead>\n",
              "    <tr style=\"text-align: right;\">\n",
              "      <th></th>\n",
              "      <th>0</th>\n",
              "      <th>1</th>\n",
              "      <th>2</th>\n",
              "    </tr>\n",
              "  </thead>\n",
              "  <tbody>\n",
              "    <tr>\n",
              "      <th>0</th>\n",
              "      <td>[3, 1, 11, 1, 2, 1, 11, 1, 10]</td>\n",
              "      <td>[-2, -2, 2, 1, -1, -2, 2, -3]</td>\n",
              "      <td>[4, 3, 2, 3, 4, 3, 2, 3, 2]</td>\n",
              "    </tr>\n",
              "    <tr>\n",
              "      <th>1</th>\n",
              "      <td>[5, 11, 4, 0, 4, 1, 7, 8, 6]</td>\n",
              "      <td>[6, 5, -4, -8, -3, -6, 1, -2]</td>\n",
              "      <td>[2, 3, 4, 3, 1, 4, 2, 3, 2]</td>\n",
              "    </tr>\n",
              "    <tr>\n",
              "      <th>2</th>\n",
              "      <td>[2, 0, 1, 6, 3, 1, 0, 2, 3]</td>\n",
              "      <td>[-2, 1, 5, -3, -2, -1, 2, 1]</td>\n",
              "      <td>[2, 1, 2, 4, 3, 2, 1, 2, 3]</td>\n",
              "    </tr>\n",
              "    <tr>\n",
              "      <th>3</th>\n",
              "      <td>[7, 5, 2, 5, 9, 3, 7, 4, 11]</td>\n",
              "      <td>[-2, -3, 3, 4, -6, 4, -3, -5]</td>\n",
              "      <td>[3, 2, 1, 2, 3, 2, 3, 2, 1]</td>\n",
              "    </tr>\n",
              "    <tr>\n",
              "      <th>4</th>\n",
              "      <td>[8, 10, 11, 1, 0, 10, 6, 5, 5]</td>\n",
              "      <td>[2, 1, 2, -1, -2, -4, -1, 0]</td>\n",
              "      <td>[3, 4, 1, 2, 1, 4, 3, 2, 3]</td>\n",
              "    </tr>\n",
              "  </tbody>\n",
              "</table>\n",
              "</div>"
            ],
            "text/plain": [
              "                                0                              1  \\\n",
              "0  [3, 1, 11, 1, 2, 1, 11, 1, 10]  [-2, -2, 2, 1, -1, -2, 2, -3]   \n",
              "1    [5, 11, 4, 0, 4, 1, 7, 8, 6]  [6, 5, -4, -8, -3, -6, 1, -2]   \n",
              "2     [2, 0, 1, 6, 3, 1, 0, 2, 3]   [-2, 1, 5, -3, -2, -1, 2, 1]   \n",
              "3    [7, 5, 2, 5, 9, 3, 7, 4, 11]  [-2, -3, 3, 4, -6, 4, -3, -5]   \n",
              "4  [8, 10, 11, 1, 0, 10, 6, 5, 5]   [2, 1, 2, -1, -2, -4, -1, 0]   \n",
              "\n",
              "                             2  \n",
              "0  [4, 3, 2, 3, 4, 3, 2, 3, 2]  \n",
              "1  [2, 3, 4, 3, 1, 4, 2, 3, 2]  \n",
              "2  [2, 1, 2, 4, 3, 2, 1, 2, 3]  \n",
              "3  [3, 2, 1, 2, 3, 2, 3, 2, 1]  \n",
              "4  [3, 4, 1, 2, 1, 4, 3, 2, 3]  "
            ]
          },
          "execution_count": 52,
          "metadata": {},
          "output_type": "execute_result"
        }
      ],
      "source": [
        "sequences_df = pd.DataFrame(sequences)\n",
        "sequences_df.head(5)\n"
      ]
    },
    {
      "cell_type": "code",
      "execution_count": 53,
      "metadata": {},
      "outputs": [],
      "source": [
        "TARGET_INDEX = 3\n",
        "PERMUTATION = tuple(range(TARGET_INDEX)) + tuple(range(TARGET_INDEX + 1, N_NOTES)) + (TARGET_INDEX,)\n"
      ]
    },
    {
      "cell_type": "code",
      "execution_count": 54,
      "metadata": {
        "id": "8HgMxwhs-Gh4"
      },
      "outputs": [],
      "source": [
        "CYCLE_LENGTH = 12\n",
        "\n",
        "def create_positions_tensor(positions_list: List[List[int]]) -> torch.Tensor:\n",
        "    positions = np.array(positions_list)[:,PERMUTATION]\n",
        "    positions = (2 * math.pi / CYCLE_LENGTH) * np.expand_dims(positions, axis=2)\n",
        "    positions_sin, positions_cos = np.sin(np.copy(positions)), np.cos(np.copy(positions))\n",
        "    return torch.from_numpy(np.concatenate((positions_sin, positions_cos), axis=2)).float()\n"
      ]
    },
    {
      "cell_type": "code",
      "execution_count": 55,
      "metadata": {
        "id": "JqEJEemwDFaF"
      },
      "outputs": [],
      "source": [
        "MAGNITUDE_SCALE = 12\n",
        "\n",
        "def create_intervals_tensor(intervals_list: List[List[int]]) -> torch.Tensor:\n",
        "    # Pad on the left side (set first value to 0 for all sequences)\n",
        "    intervals = np.pad(np.array(intervals_list), [(0, 0), (1, 0)])\n",
        "    intervals = intervals[:,PERMUTATION]\n",
        "    intervals = np.expand_dims(intervals, axis=2)\n",
        "    intervals_sign, intervals_mag = np.copy(intervals) > 0, np.abs(np.copy(intervals)) / MAGNITUDE_SCALE\n",
        "    return torch.from_numpy(np.concatenate((intervals_sign, intervals_mag), axis=2)).float()\n"
      ]
    },
    {
      "cell_type": "code",
      "execution_count": 56,
      "metadata": {
        "id": "n9iQWAeCIA1H"
      },
      "outputs": [],
      "source": [
        "def create_fingerings_one_hot_tensor(fingerings_list: List[List[int]]) -> torch.Tensor:\n",
        "    fingerings = np.array(fingerings_list)\n",
        "    fingerings = np.pad(fingerings[:,:-1], [(0, 0), (1, 0)])[:,PERMUTATION]\n",
        "    fingerings[:,list(range(TARGET_INDEX, N_NOTES - 1))] = 0\n",
        "    fingerings_one_hot_tensor = torch.tensor(fingerings)\n",
        "    return nn.functional.one_hot(fingerings_one_hot_tensor, num_classes=6)\n"
      ]
    },
    {
      "cell_type": "code",
      "execution_count": 57,
      "metadata": {
        "id": "Sbjq5yAEHPx1"
      },
      "outputs": [],
      "source": [
        "def create_fingerings_tensor(fingerings_list: List[List[int]]) -> torch.Tensor:\n",
        "    fingerings = np.array(fingerings_list)[:,PERMUTATION]\n",
        "    return torch.LongTensor(fingerings)\n"
      ]
    },
    {
      "cell_type": "code",
      "execution_count": 58,
      "metadata": {
        "id": "4G8dSuLrDt-7"
      },
      "outputs": [
        {
          "name": "stdout",
          "output_type": "stream",
          "text": [
            "tensor([[[ 1.0000e+00,  6.1232e-17,  0.0000e+00,  0.0000e+00,  1.0000e+00,\n",
            "           0.0000e+00,  0.0000e+00,  0.0000e+00,  0.0000e+00,  0.0000e+00],\n",
            "         [ 5.0000e-01,  8.6603e-01,  0.0000e+00,  1.6667e-01,  0.0000e+00,\n",
            "           0.0000e+00,  0.0000e+00,  0.0000e+00,  1.0000e+00,  0.0000e+00],\n",
            "         [-5.0000e-01,  8.6603e-01,  0.0000e+00,  1.6667e-01,  0.0000e+00,\n",
            "           0.0000e+00,  0.0000e+00,  1.0000e+00,  0.0000e+00,  0.0000e+00],\n",
            "         [ 8.6603e-01,  5.0000e-01,  1.0000e+00,  8.3333e-02,  1.0000e+00,\n",
            "           0.0000e+00,  0.0000e+00,  0.0000e+00,  0.0000e+00,  0.0000e+00],\n",
            "         [ 5.0000e-01,  8.6603e-01,  0.0000e+00,  8.3333e-02,  1.0000e+00,\n",
            "           0.0000e+00,  0.0000e+00,  0.0000e+00,  0.0000e+00,  0.0000e+00],\n",
            "         [-5.0000e-01,  8.6603e-01,  0.0000e+00,  1.6667e-01,  1.0000e+00,\n",
            "           0.0000e+00,  0.0000e+00,  0.0000e+00,  0.0000e+00,  0.0000e+00],\n",
            "         [ 5.0000e-01,  8.6603e-01,  1.0000e+00,  1.6667e-01,  1.0000e+00,\n",
            "           0.0000e+00,  0.0000e+00,  0.0000e+00,  0.0000e+00,  0.0000e+00],\n",
            "         [-8.6603e-01,  5.0000e-01,  0.0000e+00,  2.5000e-01,  1.0000e+00,\n",
            "           0.0000e+00,  0.0000e+00,  0.0000e+00,  0.0000e+00,  0.0000e+00],\n",
            "         [ 5.0000e-01,  8.6603e-01,  1.0000e+00,  1.6667e-01,  0.0000e+00,\n",
            "           0.0000e+00,  1.0000e+00,  0.0000e+00,  0.0000e+00,  0.0000e+00]]])\n",
            "tensor([[4, 3, 2, 4, 3, 2, 3, 2, 3]])\n"
          ]
        }
      ],
      "source": [
        "positions_tensor = create_positions_tensor(sequences_df[0].to_list())\n",
        "intervals_tensor = create_intervals_tensor(sequences_df[1].to_list())\n",
        "fingerings_one_hot_tensor = create_fingerings_one_hot_tensor(sequences_df[2].to_list())\n",
        "\n",
        "inputs_tensor = torch.cat((positions_tensor, intervals_tensor, fingerings_one_hot_tensor), dim=2)\n",
        "outputs_tensor = create_fingerings_tensor(sequences_df[2].to_list())\n",
        "\n",
        "print(inputs_tensor[:1])\n",
        "print(outputs_tensor[:1])\n"
      ]
    },
    {
      "cell_type": "code",
      "execution_count": 59,
      "metadata": {
        "id": "pLTK57c2h5fn"
      },
      "outputs": [],
      "source": [
        "train_inputs, test_inputs, train_outputs, test_outputs = train_test_split(inputs_tensor, outputs_tensor, test_size=0.2)\n"
      ]
    },
    {
      "cell_type": "markdown",
      "metadata": {},
      "source": [
        "# Creating GRU model"
      ]
    },
    {
      "cell_type": "code",
      "execution_count": 60,
      "metadata": {
        "id": "7CmB_dAsfMDa"
      },
      "outputs": [],
      "source": [
        "class Model1(nn.Module):\n",
        "    def __init__(self, input_size, hidden_size, output_size, n_layers, drop_prob=0.1):\n",
        "        super(Model1, self).__init__()\n",
        "        self.hidden_size = hidden_size\n",
        "        self.n_layers = n_layers\n",
        "        \n",
        "        self.gru = nn.GRU(input_size, hidden_size, n_layers, dropout=drop_prob)\n",
        "        self.fc = nn.Linear(hidden_size, output_size)\n",
        "        self.relu = nn.ReLU()\n",
        "        self.dropout = nn.Dropout(drop_prob)\n",
        "        self.softmax = nn.LogSoftmax(dim=0)\n",
        "        \n",
        "    def forward(self, input, hidden):\n",
        "        output, hidden = self.gru(input, hidden)\n",
        "        output = self.fc(self.relu(output[-1]))\n",
        "        output = self.softmax(self.dropout(output))\n",
        "        return output, hidden\n",
        "    \n",
        "    def init_hidden(self):\n",
        "        weight = next(self.parameters()).data\n",
        "        hidden = weight.new(self.n_layers, self.hidden_size).zero_()\n",
        "        return hidden\n"
      ]
    },
    {
      "cell_type": "markdown",
      "metadata": {},
      "source": [
        "# Training GRU model"
      ]
    },
    {
      "cell_type": "code",
      "execution_count": 61,
      "metadata": {
        "id": "U_WJHAKIsmQ0"
      },
      "outputs": [],
      "source": [
        "gru = Model1(input_size=10, hidden_size=32, output_size=6, n_layers=2)\n",
        "criterion = nn.NLLLoss()\n",
        "learning_rate = 0.0001\n",
        "all_losses = []\n",
        "optimizer = torch.optim.Adam(gru.parameters(), lr=learning_rate)\n",
        "\n",
        "\n",
        "def train(input_tensor: torch.Tensor, output_tensor: torch.Tensor) -> Tuple[torch.Tensor, float]:\n",
        "    hidden = gru.init_hidden()\n",
        "    optimizer.zero_grad()\n",
        "    loss = torch.Tensor([0])\n",
        "\n",
        "    output, hidden = gru(input_tensor, hidden)\n",
        "    loss += criterion(output, output_tensor[-1])\n",
        "\n",
        "    loss.backward()\n",
        "    optimizer.step()\n",
        "\n",
        "    return output, loss.item() / input_tensor.size(0)\n"
      ]
    },
    {
      "cell_type": "code",
      "execution_count": 62,
      "metadata": {
        "colab": {
          "base_uri": "https://localhost:8080/"
        },
        "id": "9qb0uNFitvwv",
        "outputId": "942364b8-6387-40d0-f735-c3e10817ea8d"
      },
      "outputs": [
        {
          "name": "stdout",
          "output_type": "stream",
          "text": [
            "0:00:55 (24000 5%) 0.2001 0.12577\n",
            "0:01:47 (48000 10%) 0.0253 0.08096\n",
            "0:02:42 (72000 15%) 0.0132 0.06421\n",
            "0:03:33 (96000 20%) 0.0036 0.05727\n",
            "0:04:25 (120000 25%) 0.0141 0.05575\n",
            "0:05:18 (144000 30%) 0.3333 0.05235\n",
            "0:06:07 (168000 35%) 0.0965 0.05172\n",
            "0:06:56 (192000 40%) 0.0453 0.04849\n",
            "0:07:49 (216000 45%) 0.0039 0.0461\n",
            "0:08:44 (240000 50%) 0.0023 0.04694\n",
            "0:09:34 (264000 55%) 0.0652 0.04687\n",
            "0:10:25 (288000 60%) 0.0059 0.04757\n",
            "0:11:15 (312000 65%) 0.0206 0.04495\n",
            "0:12:05 (336000 70%) 0.0009 0.04489\n",
            "0:12:56 (360000 75%) 0.0026 0.04381\n",
            "0:13:46 (384000 80%) 0.0968 0.04264\n",
            "0:14:36 (408000 85%) 0.0007 0.04303\n",
            "0:15:27 (432000 90%) 0.0062 0.04256\n",
            "0:16:17 (456000 95%) 0.0835 0.04144\n",
            "0:17:07 (480000 100%) 0.0022 0.03918\n"
          ]
        }
      ],
      "source": [
        "import time\n",
        "import datetime\n",
        "\n",
        "n_iters = len(train_inputs) * 1\n",
        "print_every = int(n_iters // 20)\n",
        "plot_every = int(n_iters // 100)\n",
        "total_loss = 0\n",
        "\n",
        "gru.train()\n",
        "\n",
        "start = time.time()\n",
        "\n",
        "for iteration in range(1, n_iters + 1):\n",
        "    i = random.randint(0, len(train_inputs) - 1)\n",
        "    input_tensor, output_tensor = train_inputs[i], train_outputs[i]\n",
        "    output, loss = train(input_tensor, output_tensor)\n",
        "    total_loss += loss\n",
        "\n",
        "    if iteration % print_every == 0:\n",
        "        elapsed_time = datetime.timedelta(seconds=round(time.time() - start))\n",
        "        print(f\"{elapsed_time} ({iteration} {(iteration * 100) // n_iters}%) {round(loss, 4)} {round(all_losses[-1], 5)}\")\n",
        "\n",
        "    if iteration % plot_every == 0:\n",
        "        all_losses.append(total_loss / plot_every)\n",
        "        total_loss = 0\n"
      ]
    },
    {
      "cell_type": "code",
      "execution_count": 63,
      "metadata": {
        "colab": {
          "base_uri": "https://localhost:8080/",
          "height": 430
        },
        "id": "s3tMEs49ubJl",
        "outputId": "a44c5b31-bc9c-499e-a98f-21c47927f179"
      },
      "outputs": [
        {
          "data": {
            "image/png": "[encoded data removed]",
            "text/plain": [
              "<Figure size 640x480 with 1 Axes>"
            ]
          },
          "metadata": {},
          "output_type": "display_data"
        }
      ],
      "source": [
        "plt.figure()\n",
        "plt.plot(all_losses)\n",
        "plt.show()\n"
      ]
    },
    {
      "cell_type": "markdown",
      "metadata": {},
      "source": [
        "# Testing GRU model"
      ]
    },
    {
      "cell_type": "code",
      "execution_count": 64,
      "metadata": {
        "id": "u6EfK26hiVCI"
      },
      "outputs": [],
      "source": [
        "def validate(gru: nn.Module, inputs: torch.Tensor, outputs: torch.Tensor) -> float:\n",
        "    gru.eval()\n",
        "    count = 0\n",
        "\n",
        "    with torch.no_grad():\n",
        "        for i in range(len(inputs)):\n",
        "            input_tensor, output_tensor = inputs[i], outputs[i]\n",
        "            hidden = gru.init_hidden()\n",
        "\n",
        "            output, hidden = gru(input_tensor, hidden)\n",
        "\n",
        "            _, top_i = output.topk(1)\n",
        "            count += (output_tensor[-1].item() == top_i[0].item())\n",
        "\n",
        "    return count / len(inputs)\n"
      ]
    },
    {
      "cell_type": "code",
      "execution_count": 65,
      "metadata": {
        "colab": {
          "base_uri": "https://localhost:8080/"
        },
        "id": "t58ATjfojnxR",
        "outputId": "2e93ebbe-9600-40aa-dbc6-e5e80efac066"
      },
      "outputs": [
        {
          "data": {
            "text/plain": [
              "0.8851916666666667"
            ]
          },
          "execution_count": 65,
          "metadata": {},
          "output_type": "execute_result"
        }
      ],
      "source": [
        "validate(gru, train_inputs, train_outputs)\n"
      ]
    },
    {
      "cell_type": "code",
      "execution_count": 66,
      "metadata": {},
      "outputs": [
        {
          "data": {
            "text/plain": [
              "0.8842583333333334"
            ]
          },
          "execution_count": 66,
          "metadata": {},
          "output_type": "execute_result"
        }
      ],
      "source": [
        "validate(gru, test_inputs, test_outputs)\n"
      ]
    },
    {
      "cell_type": "markdown",
      "metadata": {},
      "source": [
        "# Running on sample data"
      ]
    },
    {
      "cell_type": "code",
      "execution_count": 67,
      "metadata": {
        "id": "vnz-OO7Ir-Ee"
      },
      "outputs": [],
      "source": [
        "def evaluate_continuous(gru: nn.Module, positions: torch.Tensor, intervals: torch.Tensor, fingerings: torch.Tensor, window_size: int = N_NOTES):\n",
        "    fingerings = fingerings[:TARGET_INDEX] + [0] * (N_NOTES - TARGET_INDEX)\n",
        "    gru.eval()\n",
        "\n",
        "    with torch.no_grad():\n",
        "        for i in range(len(positions) - window_size + 1):\n",
        "            position_tensor = create_positions_tensor([positions[i: i + window_size]])\n",
        "            interval_tensor = create_intervals_tensor([intervals[i: i + window_size - 1]])\n",
        "        \n",
        "            fingering_one_hot_tensor = create_fingerings_one_hot_tensor([fingerings[i: i + window_size]])\n",
        "\n",
        "            input_tensor = torch.cat((position_tensor, interval_tensor, fingering_one_hot_tensor), dim=2)[0]\n",
        "            hidden = gru.init_hidden()\n",
        "\n",
        "            output, hidden = gru(input_tensor, hidden)\n",
        "\n",
        "            _, top_i = output.topk(1)\n",
        "            fingerings[i + TARGET_INDEX] = top_i[0].item()\n",
        "            fingerings.append(0)\n",
        "\n",
        "    return fingerings[:-1]\n"
      ]
    },
    {
      "cell_type": "code",
      "execution_count": 72,
      "metadata": {
        "colab": {
          "base_uri": "https://localhost:8080/"
        },
        "id": "1_zYE5-zuDIy",
        "outputId": "995dea46-ffc2-42c9-c1ef-1679559a32ac"
      },
      "outputs": [
        {
          "name": "stdout",
          "output_type": "stream",
          "text": [
            "[0, 0, 0, 4, 5, 1, 5, 1, 5, 2, 1, 2, 1, 4, 5, 5, 1, 5, 1, 5, 1, 2, 1, 0, 0, 0, 0, 0]\n"
          ]
        }
      ],
      "source": [
        "DATA_1 = (\n",
        "    [0] * TARGET_INDEX + [8, 0, 2, 3, 5, 2, 7, 10, 0, 2, 3, 0, 5, 7, 8, 10, 0, 8] + [0] * (N_NOTES - TARGET_INDEX - 1),\n",
        "    [0] * TARGET_INDEX + [-8, 2, 1, 2, -3, 5, -9, 2, 2, 1, -3, 5, -10, 1, 2, 2, -4] + [0] * (N_NOTES - TARGET_INDEX - 1),\n",
        "    [0] * TARGET_INDEX,\n",
        ")\n",
        "DATA_2 = (\n",
        "    [0] * TARGET_INDEX + [6, 0, 11, 2, 5, 3, 6, 7, 11, 8, 0, 2, 5, 3, 6, 7, 11] + [0] * (N_NOTES - TARGET_INDEX - 1),\n",
        "    [0] * TARGET_INDEX + [6, -1, 3, 3, -2, 3, 1, 4, -3, 4, 2, 3, -2, 3, 2, 4] + [0] * (N_NOTES - TARGET_INDEX - 1),\n",
        "    [0] * TARGET_INDEX,\n",
        ")\n",
        "DATA_3 = (\n",
        "    [0] * TARGET_INDEX + [0, 5, 8, 0, 1, 5, 8, 1, 11, 5, 8, 11, 0, 5, 8, 0] + [0] * (N_NOTES - TARGET_INDEX - 1),\n",
        "    [0] * TARGET_INDEX + [5, 3, 4, -11, 4, 3, 5, -14, 6, 3, 3, -11, 5, 3, 4] + [0] * (N_NOTES - TARGET_INDEX - 1),\n",
        "    [0] * TARGET_INDEX,\n",
        ")\n",
        "DATA_4 = (\n",
        "    [0] * TARGET_INDEX + [6, 8, 10, 0, 1, 3, 4, 6, 8, 10, 8, 6, 4, 3, 1, 0, 8, 5] + [0] * (N_NOTES - TARGET_INDEX - 1),\n",
        "    [0] * TARGET_INDEX + [2, 2, 2, 1, 2, 1, 2, 2, 2, -2, -2, -2, -1, -2, -1, -4, -3] + [0] * (N_NOTES - TARGET_INDEX - 1),\n",
        "    [0] * TARGET_INDEX,\n",
        ")\n",
        "DATA_5 = (\n",
        "    [0] * TARGET_INDEX + [1, 1, 4, 8, 1, 11, 4, 11, 4, 1, 10, 1, 6, 9, 8, 11, 9, 1, 6, 3] + [0] * (N_NOTES - TARGET_INDEX - 1),\n",
        "    [0] * TARGET_INDEX + [12, -9, 4, -7, 10, -7, -5, 5, -3, -3, 3, 5, -9, 11, -9, 10, -8, 5, -3] + [0] * (N_NOTES - TARGET_INDEX - 1),\n",
        "    [0] * TARGET_INDEX,\n",
        ")\n",
        "\n",
        "print(evaluate_continuous(gru, *DATA_5))\n"
      ]
    },
    {
      "cell_type": "markdown",
      "metadata": {},
      "source": [
        "# Saving GRU model"
      ]
    },
    {
      "cell_type": "code",
      "execution_count": 73,
      "metadata": {
        "id": "Sj7Nfoa-qzB4"
      },
      "outputs": [],
      "source": [
        "torch.save(gru.state_dict(), \"model_gru_len9_2-32[2].pt\")\n"
      ]
    }
  ],
  "metadata": {
    "colab": {
      "provenance": []
    },
    "kernelspec": {
      "display_name": "Python 3",
      "name": "python3"
    },
    "language_info": {
      "codemirror_mode": {
        "name": "ipython",
        "version": 3
      },
      "file_extension": ".py",
      "mimetype": "text/x-python",
      "name": "python",
      "nbconvert_exporter": "python",
      "pygments_lexer": "ipython3",
      "version": "3.10.11"
    }
  },
  "nbformat": 4,
  "nbformat_minor": 0
}
