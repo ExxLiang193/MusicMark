{
  "cells": [
    {
      "cell_type": "code",
      "execution_count": 1,
      "metadata": {
        "id": "hMjEELbZT64c"
      },
      "outputs": [],
      "source": [
        "import matplotlib.pyplot as plt\n",
        "import numpy as np\n",
        "import pandas as pd\n",
        "import torch\n",
        "import torch.nn as nn\n",
        "from sklearn.model_selection import train_test_split\n"
      ]
    },
    {
      "cell_type": "code",
      "execution_count": 28,
      "metadata": {
        "id": "uM4hSBq5Y8lv"
      },
      "outputs": [],
      "source": [
        "import math\n",
        "import pprint\n",
        "import random\n",
        "from typing import Dict, List, Optional, Set, Tuple, Union\n",
        "\n",
        "pp = pprint.PrettyPrinter(indent=4)\n"
      ]
    },
    {
      "cell_type": "markdown",
      "metadata": {},
      "source": [
        "# Reading data"
      ]
    },
    {
      "cell_type": "code",
      "execution_count": 29,
      "metadata": {
        "id": "GZyCtjdhib3D"
      },
      "outputs": [],
      "source": [
        "def next_n(generator, n: int) -> List[int]:\n",
        "    return [int(next(generator)) for _ in range(n)]\n",
        "\n",
        "def read_data(file_name: str) -> List[Tuple[List[int], List[int], List[int]]]:\n",
        "    sequences = list()\n",
        "    with open(file_name, \"r\") as f:\n",
        "        for line in f:\n",
        "            values = iter(line.split())\n",
        "            n_notes = int(next(values))\n",
        "            sequences.append((next_n(values, n_notes), next_n(values, n_notes - 1), next_n(values, n_notes)))\n",
        "    return sequences\n"
      ]
    },
    {
      "cell_type": "code",
      "execution_count": 30,
      "metadata": {
        "id": "vfeEfCXypEfp"
      },
      "outputs": [],
      "source": [
        "sequences = read_data(\"../data/note_sequences.txt\")\n"
      ]
    },
    {
      "cell_type": "markdown",
      "metadata": {},
      "source": [
        "# Preparing data"
      ]
    },
    {
      "cell_type": "code",
      "execution_count": 5,
      "metadata": {
        "colab": {
          "base_uri": "https://localhost:8080/",
          "height": 206
        },
        "id": "F_5JQwir7iBm",
        "outputId": "785f8a8d-f66a-477a-fa92-c53120457d39"
      },
      "outputs": [
        {
          "data": {
            "text/html": [
              "<div>\n",
              "<style scoped>\n",
              "    .dataframe tbody tr th:only-of-type {\n",
              "        vertical-align: middle;\n",
              "    }\n",
              "\n",
              "    .dataframe tbody tr th {\n",
              "        vertical-align: top;\n",
              "    }\n",
              "\n",
              "    .dataframe thead th {\n",
              "        text-align: right;\n",
              "    }\n",
              "</style>\n",
              "<table border=\"1\" class=\"dataframe\">\n",
              "  <thead>\n",
              "    <tr style=\"text-align: right;\">\n",
              "      <th></th>\n",
              "      <th>0</th>\n",
              "      <th>1</th>\n",
              "      <th>2</th>\n",
              "    </tr>\n",
              "  </thead>\n",
              "  <tbody>\n",
              "    <tr>\n",
              "      <th>0</th>\n",
              "      <td>[9, 6, 9, 4, 7]</td>\n",
              "      <td>[-3, 3, -5, 3]</td>\n",
              "      <td>[4, 2, 3, 2, 3]</td>\n",
              "    </tr>\n",
              "    <tr>\n",
              "      <th>1</th>\n",
              "      <td>[8, 3, 11, 5, 7]</td>\n",
              "      <td>[-5, -4, 6, 2]</td>\n",
              "      <td>[4, 2, 1, 2, 3]</td>\n",
              "    </tr>\n",
              "    <tr>\n",
              "      <th>2</th>\n",
              "      <td>[10, 11, 0, 4, 8]</td>\n",
              "      <td>[1, 1, 4, 4]</td>\n",
              "      <td>[3, 4, 1, 2, 4]</td>\n",
              "    </tr>\n",
              "    <tr>\n",
              "      <th>3</th>\n",
              "      <td>[2, 1, 7, 0, 6]</td>\n",
              "      <td>[-1, -6, 5, 6]</td>\n",
              "      <td>[3, 2, 1, 2, 4]</td>\n",
              "    </tr>\n",
              "    <tr>\n",
              "      <th>4</th>\n",
              "      <td>[0, 2, 2, 2, 6]</td>\n",
              "      <td>[2, 12, -12, 4]</td>\n",
              "      <td>[4, 1, 5, 1, 2]</td>\n",
              "    </tr>\n",
              "  </tbody>\n",
              "</table>\n",
              "</div>"
            ],
            "text/plain": [
              "                   0                1                2\n",
              "0    [9, 6, 9, 4, 7]   [-3, 3, -5, 3]  [4, 2, 3, 2, 3]\n",
              "1   [8, 3, 11, 5, 7]   [-5, -4, 6, 2]  [4, 2, 1, 2, 3]\n",
              "2  [10, 11, 0, 4, 8]     [1, 1, 4, 4]  [3, 4, 1, 2, 4]\n",
              "3    [2, 1, 7, 0, 6]   [-1, -6, 5, 6]  [3, 2, 1, 2, 4]\n",
              "4    [0, 2, 2, 2, 6]  [2, 12, -12, 4]  [4, 1, 5, 1, 2]"
            ]
          },
          "execution_count": 5,
          "metadata": {},
          "output_type": "execute_result"
        }
      ],
      "source": [
        "sequences_df = pd.DataFrame(sequences)\n",
        "sequences_df.head(5)\n"
      ]
    },
    {
      "cell_type": "code",
      "execution_count": 6,
      "metadata": {
        "id": "8HgMxwhs-Gh4"
      },
      "outputs": [],
      "source": [
        "CYCLE_LENGTH = 12\n",
        "\n",
        "def create_positions_tensor(positions_list: List[List[int]]) -> torch.Tensor:\n",
        "    positions = np.array(positions_list)[:,[0, 1, 3, 4, 2]]\n",
        "    positions = (2 * math.pi / CYCLE_LENGTH) * np.expand_dims(positions, axis=2)\n",
        "    positions_sin, positions_cos = np.sin(np.copy(positions)), np.cos(np.copy(positions))\n",
        "    return torch.from_numpy(np.concatenate((positions_sin, positions_cos), axis=2)).float()\n"
      ]
    },
    {
      "cell_type": "code",
      "execution_count": 7,
      "metadata": {
        "id": "JqEJEemwDFaF"
      },
      "outputs": [],
      "source": [
        "MAGNITUDE_SCALE = 12\n",
        "\n",
        "def create_intervals_tensor(intervals_list: List[List[int]]) -> torch.Tensor:\n",
        "    # Pad on the left side (set first value to 0 for all sequences)\n",
        "    intervals = np.pad(np.array(intervals_list), [(0, 0), (1, 0)])\n",
        "    intervals = intervals[:, [0, 1, 3, 4, 2]]\n",
        "    intervals = np.expand_dims(intervals, axis=2)\n",
        "    intervals_sign, intervals_mag = np.copy(intervals) > 0, np.abs(np.copy(intervals)) / MAGNITUDE_SCALE\n",
        "    return torch.from_numpy(np.concatenate((intervals_sign, intervals_mag), axis=2)).float()\n"
      ]
    },
    {
      "cell_type": "code",
      "execution_count": 8,
      "metadata": {
        "id": "n9iQWAeCIA1H"
      },
      "outputs": [],
      "source": [
        "def create_fingerings_one_hot_tensor(fingerings_list: List[List[int]]) -> torch.Tensor:\n",
        "    fingerings = np.array(fingerings_list)\n",
        "    fingerings = np.pad(fingerings[:,:-1], [(0, 0), (1, 0)])[:, [0, 1, 0, 0, 2]]\n",
        "    fingerings_one_hot_tensor = torch.tensor(fingerings)\n",
        "    return nn.functional.one_hot(fingerings_one_hot_tensor, num_classes=6)\n"
      ]
    },
    {
      "cell_type": "code",
      "execution_count": 9,
      "metadata": {
        "id": "Sbjq5yAEHPx1"
      },
      "outputs": [],
      "source": [
        "def create_fingerings_tensor(fingerings_list: List[List[int]]) -> torch.Tensor:\n",
        "    fingerings = np.array(fingerings_list)[:, [0, 1, 3, 4, 2]]\n",
        "    return torch.LongTensor(np.expand_dims(fingerings, axis=2))\n"
      ]
    },
    {
      "cell_type": "code",
      "execution_count": 10,
      "metadata": {
        "id": "4G8dSuLrDt-7"
      },
      "outputs": [
        {
          "data": {
            "text/plain": [
              "tensor([[[-1.0000e+00, -1.8370e-16,  0.0000e+00,  0.0000e+00,  1.0000e+00,\n",
              "           0.0000e+00,  0.0000e+00,  0.0000e+00,  0.0000e+00,  0.0000e+00],\n",
              "         [ 1.2246e-16, -1.0000e+00,  0.0000e+00,  2.5000e-01,  0.0000e+00,\n",
              "           0.0000e+00,  0.0000e+00,  0.0000e+00,  1.0000e+00,  0.0000e+00],\n",
              "         [ 8.6603e-01, -5.0000e-01,  0.0000e+00,  4.1667e-01,  1.0000e+00,\n",
              "           0.0000e+00,  0.0000e+00,  0.0000e+00,  0.0000e+00,  0.0000e+00],\n",
              "         [-5.0000e-01, -8.6603e-01,  1.0000e+00,  2.5000e-01,  1.0000e+00,\n",
              "           0.0000e+00,  0.0000e+00,  0.0000e+00,  0.0000e+00,  0.0000e+00],\n",
              "         [-1.0000e+00, -1.8370e-16,  1.0000e+00,  2.5000e-01,  0.0000e+00,\n",
              "           0.0000e+00,  1.0000e+00,  0.0000e+00,  0.0000e+00,  0.0000e+00]]])"
            ]
          },
          "execution_count": 10,
          "metadata": {},
          "output_type": "execute_result"
        }
      ],
      "source": [
        "positions_tensor = create_positions_tensor(sequences_df[0].to_list())\n",
        "intervals_tensor = create_intervals_tensor(sequences_df[1].to_list())\n",
        "fingerings_one_hot_tensor = create_fingerings_one_hot_tensor(sequences_df[2].to_list())\n",
        "\n",
        "inputs_tensor = torch.cat((positions_tensor, intervals_tensor, fingerings_one_hot_tensor), dim=2)\n",
        "outputs_tensor = create_fingerings_tensor(sequences_df[2].to_list())\n",
        "\n",
        "inputs_tensor[:1]\n"
      ]
    },
    {
      "cell_type": "code",
      "execution_count": 11,
      "metadata": {
        "id": "pLTK57c2h5fn"
      },
      "outputs": [],
      "source": [
        "train_inputs, test_inputs, train_outputs, test_outputs = train_test_split(inputs_tensor, outputs_tensor, test_size=0.2)\n"
      ]
    },
    {
      "cell_type": "markdown",
      "metadata": {},
      "source": [
        "# Creating RNN model"
      ]
    },
    {
      "cell_type": "code",
      "execution_count": 12,
      "metadata": {
        "id": "7CmB_dAsfMDa"
      },
      "outputs": [],
      "source": [
        "class Model1(nn.Module):\n",
        "    def __init__(self, input_size, hidden_size, output_size):\n",
        "        super(Model1, self).__init__()\n",
        "        self.hidden_size = hidden_size\n",
        "\n",
        "        combined_size = input_size + hidden_size\n",
        "        self.i2h = nn.Linear(combined_size, hidden_size)\n",
        "        self.i2o = nn.Linear(combined_size, output_size)\n",
        "        self.o2o = nn.Linear(hidden_size + output_size, output_size)\n",
        "        self.dropout = nn.Dropout(0.1)\n",
        "        self.softmax = nn.LogSoftmax(dim=1)\n",
        "\n",
        "    def forward(self, input, hidden):\n",
        "        input_combined = torch.cat((input, hidden), 1)\n",
        "        hidden = self.i2h(input_combined)\n",
        "        output = self.i2o(input_combined)\n",
        "        output_combined = torch.cat((hidden, output), 1)\n",
        "        output = self.o2o(output_combined)\n",
        "        output = self.dropout(output)\n",
        "        output = self.softmax(output)\n",
        "        return output, hidden\n",
        "\n",
        "    def init_hidden(self):\n",
        "        return torch.zeros(1, self.hidden_size)\n"
      ]
    },
    {
      "cell_type": "markdown",
      "metadata": {},
      "source": [
        "# Training RNN model"
      ]
    },
    {
      "cell_type": "code",
      "execution_count": 13,
      "metadata": {
        "id": "U_WJHAKIsmQ0"
      },
      "outputs": [],
      "source": [
        "rnn = Model1(10, 64, 6)\n",
        "criterion = nn.NLLLoss()\n",
        "learning_rate = 0.0005\n",
        "optimizer = torch.optim.Adam(rnn.parameters(), lr=learning_rate)\n",
        "\n",
        "\n",
        "def train(input_tensor: torch.Tensor, output_tensor: torch.Tensor) -> Tuple[torch.Tensor, float]:\n",
        "    hidden = rnn.init_hidden()\n",
        "    optimizer.zero_grad()\n",
        "    loss = torch.Tensor([0])\n",
        "\n",
        "    for i in range(len(input_tensor)):\n",
        "        output, hidden = rnn(input_tensor[i], hidden)\n",
        "        loss += criterion(output, output_tensor[i])\n",
        "\n",
        "    loss.backward()\n",
        "    optimizer.step()\n",
        "\n",
        "    return output, loss.item() / input_tensor.size(0)\n"
      ]
    },
    {
      "cell_type": "code",
      "execution_count": 22,
      "metadata": {
        "colab": {
          "base_uri": "https://localhost:8080/"
        },
        "id": "9qb0uNFitvwv",
        "outputId": "942364b8-6387-40d0-f735-c3e10817ea8d"
      },
      "outputs": [
        {
          "name": "stdout",
          "output_type": "stream",
          "text": [
            "16.13 (24000 5%) 1.2677\n",
            "31.95 (48000 10%) 1.6145\n",
            "48.08 (72000 15%) 1.0496\n",
            "63.48 (96000 20%) 1.2494\n",
            "78.7 (120000 25%) 1.6884\n",
            "94.76 (144000 30%) 1.3961\n",
            "109.93 (168000 35%) 1.5274\n",
            "125.15 (192000 40%) 1.3442\n",
            "140.27 (216000 45%) 1.2388\n",
            "155.7 (240000 50%) 1.4075\n",
            "171.02 (264000 55%) 1.2321\n",
            "186.4 (288000 60%) 1.2409\n",
            "202.43 (312000 65%) 1.0522\n",
            "217.94 (336000 70%) 1.3869\n",
            "233.13 (360000 75%) 1.1735\n",
            "248.66 (384000 80%) 1.2275\n",
            "263.88 (408000 85%) 1.3605\n",
            "279.23 (432000 90%) 1.2547\n",
            "294.64 (456000 95%) 1.6268\n",
            "310.19 (480000 100%) 1.1087\n"
          ]
        }
      ],
      "source": [
        "import time\n",
        "\n",
        "n_iters = len(train_inputs)\n",
        "print_every = int(n_iters // 20)\n",
        "plot_every = int(n_iters // 100)\n",
        "all_losses = []\n",
        "total_loss = 0\n",
        "\n",
        "rnn.train()\n",
        "\n",
        "start = time.time()\n",
        "\n",
        "for iteration in range(1, n_iters + 1):\n",
        "    i = random.randint(0, len(train_inputs) - 1)\n",
        "    input_tensor, output_tensor = train_inputs[i], train_outputs[i]\n",
        "    output, loss = train(input_tensor.unsqueeze(1), output_tensor)\n",
        "    total_loss += loss\n",
        "\n",
        "    if iteration % print_every == 0:\n",
        "        print(f\"{round(time.time() - start, 2)} ({iteration} {(iteration * 100) // n_iters}%) {round(loss, 4)}\")\n",
        "\n",
        "    if iteration % plot_every == 0:\n",
        "        all_losses.append(total_loss / plot_every)\n",
        "        total_loss = 0\n"
      ]
    },
    {
      "cell_type": "code",
      "execution_count": 23,
      "metadata": {
        "colab": {
          "base_uri": "https://localhost:8080/",
          "height": 430
        },
        "id": "s3tMEs49ubJl",
        "outputId": "a44c5b31-bc9c-499e-a98f-21c47927f179"
      },
      "outputs": [
        {
          "data": {
            "image/png": "[encoded data removed]",
            "text/plain": [
              "<Figure size 640x480 with 1 Axes>"
            ]
          },
          "metadata": {},
          "output_type": "display_data"
        }
      ],
      "source": [
        "plt.figure()\n",
        "plt.plot(all_losses)\n",
        "plt.show()\n"
      ]
    },
    {
      "cell_type": "markdown",
      "metadata": {},
      "source": [
        "# Testing RNN model"
      ]
    },
    {
      "cell_type": "code",
      "execution_count": 24,
      "metadata": {
        "id": "u6EfK26hiVCI"
      },
      "outputs": [],
      "source": [
        "def validate(rnn: nn.Module) -> float:\n",
        "    rnn.eval()\n",
        "    count = 0\n",
        "\n",
        "    with torch.no_grad():\n",
        "        for i in range(len(test_inputs)):\n",
        "            input_tensor, output_tensor = test_inputs[i].unsqueeze(1), test_outputs[i]\n",
        "            hidden = rnn.init_hidden()\n",
        "\n",
        "            for j in range(len(input_tensor)):\n",
        "                output, hidden = rnn(input_tensor[j], hidden)\n",
        "\n",
        "            _, top_i = output.topk(1)\n",
        "            count += (output_tensor[-1][0].item() == top_i[0][0].item())\n",
        "\n",
        "    return count / len(test_inputs)\n"
      ]
    },
    {
      "cell_type": "code",
      "execution_count": 25,
      "metadata": {
        "colab": {
          "base_uri": "https://localhost:8080/"
        },
        "id": "t58ATjfojnxR",
        "outputId": "2e93ebbe-9600-40aa-dbc6-e5e80efac066"
      },
      "outputs": [
        {
          "data": {
            "text/plain": [
              "0.5150166666666667"
            ]
          },
          "execution_count": 25,
          "metadata": {},
          "output_type": "execute_result"
        }
      ],
      "source": [
        "validate(rnn)\n"
      ]
    },
    {
      "cell_type": "markdown",
      "metadata": {},
      "source": [
        "# Running on sample data"
      ]
    },
    {
      "cell_type": "code",
      "execution_count": 18,
      "metadata": {
        "id": "vnz-OO7Ir-Ee"
      },
      "outputs": [],
      "source": [
        "def evaluate_continuous(rnn: nn.Module, positions: torch.Tensor, intervals: torch.Tensor, fingerings: torch.Tensor, window_size: int = 5):\n",
        "    fingerings = fingerings[:window_size]\n",
        "    rnn.eval()\n",
        "\n",
        "    with torch.no_grad():\n",
        "        for i in range(len(positions) - window_size + 1):\n",
        "            position_tensor = create_positions_tensor([positions[i: i + window_size]])\n",
        "            interval_tensor = create_intervals_tensor([intervals[i: i + window_size - 1]])\n",
        "        \n",
        "            fingering_one_hot_tensor = create_fingerings_one_hot_tensor([fingerings[i: i + window_size]])\n",
        "\n",
        "            input_tensor = torch.cat((position_tensor, interval_tensor, fingering_one_hot_tensor), dim=2)[0].unsqueeze(1)\n",
        "            hidden = rnn.init_hidden()\n",
        "\n",
        "            for j in range(window_size):\n",
        "                output, hidden = rnn(input_tensor[j], hidden)\n",
        "\n",
        "            _, top_i = output.topk(1)\n",
        "            fingerings[-3] = top_i[0][0].item()\n",
        "            fingerings.append(0)\n",
        "\n",
        "    return fingerings[:-1]\n"
      ]
    },
    {
      "cell_type": "code",
      "execution_count": 27,
      "metadata": {
        "colab": {
          "base_uri": "https://localhost:8080/"
        },
        "id": "1_zYE5-zuDIy",
        "outputId": "995dea46-ffc2-42c9-c1ef-1679559a32ac"
      },
      "outputs": [
        {
          "data": {
            "text/plain": [
              "[1, 3, 2, 3, 2, 1, 2, 3, 2, 1, 2, 3, 2, 1, 2, 0, 0]"
            ]
          },
          "execution_count": 27,
          "metadata": {},
          "output_type": "execute_result"
        }
      ],
      "source": [
        "DATA_1 = (\n",
        "    [8, 0, 2, 3, 5, 2, 7, 10, 0, 2, 3, 0, 5, 7, 8, 10, 0, 8],\n",
        "    [-8, 2, 1, 2, -3, 5, -9, 2, 2, 1, -3, 5, -10, 1, 2, 2, -4],\n",
        "    [5, 1, 2, 0, 0],\n",
        ")\n",
        "DATA_2 = (\n",
        "    [6, 0, 11, 2, 5, 3, 6, 7, 11, 8, 0, 2, 5, 3, 6, 7, 11],\n",
        "    [6, -1, 3, 3, -2, 3, 1, 4, -3, 4, 2, 3, -2, 3, 2, 4],\n",
        "    [1, 3, 2, 0, 0],\n",
        ")\n",
        "\n",
        "evaluate_continuous(rnn, *DATA_2)\n"
      ]
    },
    {
      "cell_type": "code",
      "execution_count": 176,
      "metadata": {
        "id": "Sj7Nfoa-qzB4"
      },
      "outputs": [],
      "source": [
        "torch.save(rnn.state_dict(), \"model_rnn.pt\")\n"
      ]
    }
  ],
  "metadata": {
    "colab": {
      "provenance": []
    },
    "kernelspec": {
      "display_name": "Python 3",
      "name": "python3"
    },
    "language_info": {
      "codemirror_mode": {
        "name": "ipython",
        "version": 3
      },
      "file_extension": ".py",
      "mimetype": "text/x-python",
      "name": "python",
      "nbconvert_exporter": "python",
      "pygments_lexer": "ipython3",
      "version": "3.10.11"
    }
  },
  "nbformat": 4,
  "nbformat_minor": 0
}
