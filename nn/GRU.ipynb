{
  "cells": [
    {
      "cell_type": "markdown",
      "metadata": {},
      "source": [
        "# Imports"
      ]
    },
    {
      "cell_type": "code",
      "execution_count": 373,
      "metadata": {
        "id": "hMjEELbZT64c"
      },
      "outputs": [],
      "source": [
        "import matplotlib.pyplot as plt\n",
        "import numpy as np\n",
        "import pandas as pd\n",
        "import torch\n",
        "import torch.nn as nn\n",
        "from sklearn.model_selection import train_test_split\n"
      ]
    },
    {
      "cell_type": "code",
      "execution_count": 374,
      "metadata": {
        "id": "uM4hSBq5Y8lv"
      },
      "outputs": [],
      "source": [
        "import math\n",
        "import pprint\n",
        "import random\n",
        "from typing import Dict, List, Optional, Set, Tuple, Union\n",
        "\n",
        "pp = pprint.PrettyPrinter(indent=4)\n"
      ]
    },
    {
      "cell_type": "markdown",
      "metadata": {},
      "source": [
        "# Reading data"
      ]
    },
    {
      "cell_type": "code",
      "execution_count": 375,
      "metadata": {
        "id": "GZyCtjdhib3D"
      },
      "outputs": [],
      "source": [
        "N_NOTES = -1\n",
        "\n",
        "def next_n(generator, n: int) -> List[int]:\n",
        "    return [int(next(generator)) for _ in range(n)]\n",
        "\n",
        "def read_data(file_name: str) -> List[Tuple[List[int], List[int], List[int]]]:\n",
        "    sequences = list()\n",
        "    with open(file_name, \"r\") as f:\n",
        "        for line in f:\n",
        "            values = iter(line.split())\n",
        "            n_notes = int(next(values))\n",
        "            sequences.append((next_n(values, n_notes), next_n(values, n_notes - 1), next_n(values, n_notes)))\n",
        "    global N_NOTES\n",
        "    N_NOTES = n_notes\n",
        "    return sequences\n"
      ]
    },
    {
      "cell_type": "code",
      "execution_count": 376,
      "metadata": {
        "id": "vfeEfCXypEfp"
      },
      "outputs": [],
      "source": [
        "sequences = read_data(\"../data/note_sequences.txt\")\n"
      ]
    },
    {
      "cell_type": "markdown",
      "metadata": {},
      "source": [
        "# Preparing data"
      ]
    },
    {
      "cell_type": "code",
      "execution_count": 377,
      "metadata": {
        "colab": {
          "base_uri": "https://localhost:8080/",
          "height": 206
        },
        "id": "F_5JQwir7iBm",
        "outputId": "785f8a8d-f66a-477a-fa92-c53120457d39"
      },
      "outputs": [
        {
          "data": {
            "text/html": [
              "<div>\n",
              "<style scoped>\n",
              "    .dataframe tbody tr th:only-of-type {\n",
              "        vertical-align: middle;\n",
              "    }\n",
              "\n",
              "    .dataframe tbody tr th {\n",
              "        vertical-align: top;\n",
              "    }\n",
              "\n",
              "    .dataframe thead th {\n",
              "        text-align: right;\n",
              "    }\n",
              "</style>\n",
              "<table border=\"1\" class=\"dataframe\">\n",
              "  <thead>\n",
              "    <tr style=\"text-align: right;\">\n",
              "      <th></th>\n",
              "      <th>0</th>\n",
              "      <th>1</th>\n",
              "      <th>2</th>\n",
              "    </tr>\n",
              "  </thead>\n",
              "  <tbody>\n",
              "    <tr>\n",
              "      <th>0</th>\n",
              "      <td>[3, 5, 5, 1, 6, 2, 1, 11, 0]</td>\n",
              "      <td>[-10, 12, -4, 5, -4, -1, -14, 1]</td>\n",
              "      <td>[3, 1, 3, 2, 5, 1, 4, 1, 5]</td>\n",
              "    </tr>\n",
              "    <tr>\n",
              "      <th>1</th>\n",
              "      <td>[7, 7, 4, 1, 3, 10, 2, 10, 7]</td>\n",
              "      <td>[0, -3, -3, 2, -5, 4, -4, -3]</td>\n",
              "      <td>[4, 1, 4, 1, 4, 2, 5, 2, 1]</td>\n",
              "    </tr>\n",
              "    <tr>\n",
              "      <th>2</th>\n",
              "      <td>[9, 8, 0, 0, 0, 5, 7, 4, 4]</td>\n",
              "      <td>[11, -8, 12, -12, 5, -10, 9, -12]</td>\n",
              "      <td>[1, 5, 1, 3, 1, 5, 1, 4, 1]</td>\n",
              "    </tr>\n",
              "    <tr>\n",
              "      <th>3</th>\n",
              "      <td>[8, 0, 1, 1, 1, 3, 6, 11, 8]</td>\n",
              "      <td>[-8, 1, 0, 12, 2, 15, -7, 9]</td>\n",
              "      <td>[4, 1, 2, 1, 4, 1, 5, 1, 5]</td>\n",
              "    </tr>\n",
              "    <tr>\n",
              "      <th>4</th>\n",
              "      <td>[11, 1, 2, 5, 9, 7, 2, 5, 10]</td>\n",
              "      <td>[2, 1, 3, 4, -2, -5, 3, -7]</td>\n",
              "      <td>[3, 1, 3, 4, 1, 4, 3, 4, 1]</td>\n",
              "    </tr>\n",
              "  </tbody>\n",
              "</table>\n",
              "</div>"
            ],
            "text/plain": [
              "                               0                                  1  \\\n",
              "0   [3, 5, 5, 1, 6, 2, 1, 11, 0]   [-10, 12, -4, 5, -4, -1, -14, 1]   \n",
              "1  [7, 7, 4, 1, 3, 10, 2, 10, 7]      [0, -3, -3, 2, -5, 4, -4, -3]   \n",
              "2    [9, 8, 0, 0, 0, 5, 7, 4, 4]  [11, -8, 12, -12, 5, -10, 9, -12]   \n",
              "3   [8, 0, 1, 1, 1, 3, 6, 11, 8]       [-8, 1, 0, 12, 2, 15, -7, 9]   \n",
              "4  [11, 1, 2, 5, 9, 7, 2, 5, 10]        [2, 1, 3, 4, -2, -5, 3, -7]   \n",
              "\n",
              "                             2  \n",
              "0  [3, 1, 3, 2, 5, 1, 4, 1, 5]  \n",
              "1  [4, 1, 4, 1, 4, 2, 5, 2, 1]  \n",
              "2  [1, 5, 1, 3, 1, 5, 1, 4, 1]  \n",
              "3  [4, 1, 2, 1, 4, 1, 5, 1, 5]  \n",
              "4  [3, 1, 3, 4, 1, 4, 3, 4, 1]  "
            ]
          },
          "execution_count": 377,
          "metadata": {},
          "output_type": "execute_result"
        }
      ],
      "source": [
        "sequences_df = pd.DataFrame(sequences)\n",
        "sequences_df.head(5)\n"
      ]
    },
    {
      "cell_type": "code",
      "execution_count": 378,
      "metadata": {},
      "outputs": [],
      "source": [
        "TARGET_INDEX = 3\n",
        "PERMUTATION = tuple(range(TARGET_INDEX)) + tuple(range(TARGET_INDEX + 1, N_NOTES)) + (TARGET_INDEX,)\n"
      ]
    },
    {
      "cell_type": "code",
      "execution_count": 379,
      "metadata": {
        "id": "8HgMxwhs-Gh4"
      },
      "outputs": [],
      "source": [
        "CYCLE_LENGTH = 12\n",
        "\n",
        "def create_positions_tensor(positions_list: List[List[int]]) -> torch.Tensor:\n",
        "    positions = np.array(positions_list)[:,PERMUTATION]\n",
        "    positions = (2 * math.pi / CYCLE_LENGTH) * np.expand_dims(positions, axis=2)\n",
        "    positions_sin, positions_cos = np.sin(np.copy(positions)), np.cos(np.copy(positions))\n",
        "    return torch.from_numpy(np.concatenate((positions_sin, positions_cos), axis=2)).float()\n"
      ]
    },
    {
      "cell_type": "code",
      "execution_count": 380,
      "metadata": {
        "id": "JqEJEemwDFaF"
      },
      "outputs": [],
      "source": [
        "MAGNITUDE_SCALE = 12\n",
        "\n",
        "def create_intervals_tensor(intervals_list: List[List[int]]) -> torch.Tensor:\n",
        "    # Pad on the left side (set first value to 0 for all sequences)\n",
        "    intervals = np.pad(np.array(intervals_list), [(0, 0), (1, 0)])\n",
        "    intervals = intervals[:,PERMUTATION]\n",
        "    intervals = np.expand_dims(intervals, axis=2)\n",
        "    intervals_sign, intervals_mag = np.copy(intervals) > 0, np.abs(np.copy(intervals)) / MAGNITUDE_SCALE\n",
        "    return torch.from_numpy(np.concatenate((intervals_sign, intervals_mag), axis=2)).float()\n"
      ]
    },
    {
      "cell_type": "code",
      "execution_count": 381,
      "metadata": {
        "id": "n9iQWAeCIA1H"
      },
      "outputs": [],
      "source": [
        "def create_fingerings_one_hot_tensor(fingerings_list: List[List[int]]) -> torch.Tensor:\n",
        "    fingerings = np.array(fingerings_list)\n",
        "    fingerings = np.pad(fingerings[:,:-1], [(0, 0), (1, 0)])[:,PERMUTATION]\n",
        "    fingerings[:,list(range(2, N_NOTES - 1))] = 0\n",
        "    fingerings_one_hot_tensor = torch.tensor(fingerings)\n",
        "    return nn.functional.one_hot(fingerings_one_hot_tensor, num_classes=6)\n"
      ]
    },
    {
      "cell_type": "code",
      "execution_count": 382,
      "metadata": {
        "id": "Sbjq5yAEHPx1"
      },
      "outputs": [],
      "source": [
        "def create_fingerings_tensor(fingerings_list: List[List[int]]) -> torch.Tensor:\n",
        "    fingerings = np.array(fingerings_list)[:,PERMUTATION]\n",
        "    return torch.LongTensor(fingerings)\n"
      ]
    },
    {
      "cell_type": "code",
      "execution_count": 383,
      "metadata": {
        "id": "4G8dSuLrDt-7"
      },
      "outputs": [
        {
          "name": "stdout",
          "output_type": "stream",
          "text": [
            "tensor([[[ 1.0000e+00,  6.1232e-17,  0.0000e+00,  0.0000e+00,  1.0000e+00,\n",
            "           0.0000e+00,  0.0000e+00,  0.0000e+00,  0.0000e+00,  0.0000e+00],\n",
            "         [ 5.0000e-01, -8.6603e-01,  0.0000e+00,  8.3333e-01,  0.0000e+00,\n",
            "           0.0000e+00,  0.0000e+00,  1.0000e+00,  0.0000e+00,  0.0000e+00],\n",
            "         [ 5.0000e-01, -8.6603e-01,  1.0000e+00,  1.0000e+00,  1.0000e+00,\n",
            "           0.0000e+00,  0.0000e+00,  0.0000e+00,  0.0000e+00,  0.0000e+00],\n",
            "         [ 1.2246e-16, -1.0000e+00,  1.0000e+00,  4.1667e-01,  1.0000e+00,\n",
            "           0.0000e+00,  0.0000e+00,  0.0000e+00,  0.0000e+00,  0.0000e+00],\n",
            "         [ 8.6603e-01,  5.0000e-01,  0.0000e+00,  3.3333e-01,  1.0000e+00,\n",
            "           0.0000e+00,  0.0000e+00,  0.0000e+00,  0.0000e+00,  0.0000e+00],\n",
            "         [ 5.0000e-01,  8.6603e-01,  0.0000e+00,  8.3333e-02,  1.0000e+00,\n",
            "           0.0000e+00,  0.0000e+00,  0.0000e+00,  0.0000e+00,  0.0000e+00],\n",
            "         [-5.0000e-01,  8.6603e-01,  0.0000e+00,  1.1667e+00,  1.0000e+00,\n",
            "           0.0000e+00,  0.0000e+00,  0.0000e+00,  0.0000e+00,  0.0000e+00],\n",
            "         [ 0.0000e+00,  1.0000e+00,  1.0000e+00,  8.3333e-02,  1.0000e+00,\n",
            "           0.0000e+00,  0.0000e+00,  0.0000e+00,  0.0000e+00,  0.0000e+00],\n",
            "         [ 5.0000e-01,  8.6603e-01,  0.0000e+00,  3.3333e-01,  0.0000e+00,\n",
            "           0.0000e+00,  0.0000e+00,  1.0000e+00,  0.0000e+00,  0.0000e+00]]])\n",
            "tensor([[3, 1, 3, 5, 1, 4, 1, 5, 2]])\n"
          ]
        }
      ],
      "source": [
        "positions_tensor = create_positions_tensor(sequences_df[0].to_list())\n",
        "intervals_tensor = create_intervals_tensor(sequences_df[1].to_list())\n",
        "fingerings_one_hot_tensor = create_fingerings_one_hot_tensor(sequences_df[2].to_list())\n",
        "\n",
        "inputs_tensor = torch.cat((positions_tensor, intervals_tensor, fingerings_one_hot_tensor), dim=2)\n",
        "outputs_tensor = create_fingerings_tensor(sequences_df[2].to_list())\n",
        "\n",
        "print(inputs_tensor[:1])\n",
        "print(outputs_tensor[:1])\n"
      ]
    },
    {
      "cell_type": "code",
      "execution_count": 384,
      "metadata": {
        "id": "pLTK57c2h5fn"
      },
      "outputs": [],
      "source": [
        "train_inputs, test_inputs, train_outputs, test_outputs = train_test_split(inputs_tensor, outputs_tensor, test_size=0.2)\n"
      ]
    },
    {
      "cell_type": "markdown",
      "metadata": {},
      "source": [
        "# Creating GRU model"
      ]
    },
    {
      "cell_type": "code",
      "execution_count": 385,
      "metadata": {
        "id": "7CmB_dAsfMDa"
      },
      "outputs": [],
      "source": [
        "class Model1(nn.Module):\n",
        "    def __init__(self, input_size, hidden_size, output_size, n_layers, drop_prob=0.1):\n",
        "        super(Model1, self).__init__()\n",
        "        self.hidden_size = hidden_size\n",
        "        self.n_layers = n_layers\n",
        "        \n",
        "        self.gru = nn.GRU(input_size, hidden_size, n_layers, dropout=drop_prob)\n",
        "        self.fc = nn.Linear(hidden_size, output_size)\n",
        "        self.relu = nn.ReLU()\n",
        "        self.dropout = nn.Dropout(drop_prob)\n",
        "        self.softmax = nn.LogSoftmax(dim=0)\n",
        "        \n",
        "    def forward(self, input, hidden):\n",
        "        output, hidden = self.gru(input, hidden)\n",
        "        output = self.fc(self.relu(output[-1]))\n",
        "        output = self.softmax(self.dropout(output))\n",
        "        return output, hidden\n",
        "    \n",
        "    def init_hidden(self):\n",
        "        weight = next(self.parameters()).data\n",
        "        hidden = weight.new(self.n_layers, self.hidden_size).zero_()\n",
        "        return hidden\n"
      ]
    },
    {
      "cell_type": "markdown",
      "metadata": {},
      "source": [
        "# Training GRU model"
      ]
    },
    {
      "cell_type": "code",
      "execution_count": 386,
      "metadata": {
        "id": "U_WJHAKIsmQ0"
      },
      "outputs": [],
      "source": [
        "gru = Model1(input_size=10, hidden_size=32, output_size=6, n_layers=2)\n",
        "criterion = nn.NLLLoss()\n",
        "learning_rate = 0.0007\n",
        "all_losses = []\n",
        "optimizer = torch.optim.Adam(gru.parameters(), lr=learning_rate)\n",
        "\n",
        "\n",
        "def train(input_tensor: torch.Tensor, output_tensor: torch.Tensor) -> Tuple[torch.Tensor, float]:\n",
        "    hidden = gru.init_hidden()\n",
        "    optimizer.zero_grad()\n",
        "    loss = torch.Tensor([0])\n",
        "\n",
        "    output, hidden = gru(input_tensor, hidden)\n",
        "    loss += criterion(output, output_tensor[-1])\n",
        "\n",
        "    loss.backward()\n",
        "    optimizer.step()\n",
        "\n",
        "    return output, loss.item() / input_tensor.size(0)\n"
      ]
    },
    {
      "cell_type": "code",
      "execution_count": 387,
      "metadata": {
        "colab": {
          "base_uri": "https://localhost:8080/"
        },
        "id": "9qb0uNFitvwv",
        "outputId": "942364b8-6387-40d0-f735-c3e10817ea8d"
      },
      "outputs": [
        {
          "name": "stdout",
          "output_type": "stream",
          "text": [
            "0:00:38 (24000 5%) 0.0507 0.10247\n",
            "0:01:14 (48000 10%) 0.1618 0.08873\n",
            "0:01:50 (72000 15%) 0.0233 0.08389\n",
            "0:02:30 (96000 20%) 0.0109 0.08243\n",
            "0:03:06 (120000 25%) 0.1633 0.07881\n",
            "0:03:42 (144000 30%) 0.0298 0.07881\n",
            "0:04:21 (168000 35%) 0.0355 0.07807\n",
            "0:05:02 (192000 40%) 0.0 0.07705\n",
            "0:05:39 (216000 45%) 0.0745 0.07608\n",
            "0:06:17 (240000 50%) 0.0913 0.07514\n",
            "0:06:53 (264000 55%) 0.0 0.07533\n",
            "0:07:29 (288000 60%) 0.0218 0.07443\n",
            "0:08:05 (312000 65%) 0.0002 0.07483\n",
            "0:08:41 (336000 70%) 0.0 0.07675\n",
            "0:09:17 (360000 75%) 0.1474 0.07448\n",
            "0:09:53 (384000 80%) 0.1378 0.07426\n",
            "0:10:29 (408000 85%) 0.1579 0.07291\n",
            "0:11:05 (432000 90%) 0.0389 0.07326\n",
            "0:11:42 (456000 95%) 0.085 0.07166\n",
            "0:12:19 (480000 100%) 0.1027 0.07494\n"
          ]
        }
      ],
      "source": [
        "import time\n",
        "import datetime\n",
        "\n",
        "n_iters = len(train_inputs) * 1\n",
        "print_every = int(n_iters // 20)\n",
        "plot_every = int(n_iters // 100)\n",
        "total_loss = 0\n",
        "\n",
        "gru.train()\n",
        "\n",
        "start = time.time()\n",
        "\n",
        "for iteration in range(1, n_iters + 1):\n",
        "    i = random.randint(0, len(train_inputs) - 1)\n",
        "    input_tensor, output_tensor = train_inputs[i], train_outputs[i]\n",
        "    output, loss = train(input_tensor, output_tensor)\n",
        "    total_loss += loss\n",
        "\n",
        "    if iteration % print_every == 0:\n",
        "        elapsed_time = datetime.timedelta(seconds=round(time.time() - start))\n",
        "        print(f\"{elapsed_time} ({iteration} {(iteration * 100) // n_iters}%) {round(loss, 4)} {round(all_losses[-1], 5)}\")\n",
        "\n",
        "    if iteration % plot_every == 0:\n",
        "        all_losses.append(total_loss / plot_every)\n",
        "        total_loss = 0\n"
      ]
    },
    {
      "cell_type": "code",
      "execution_count": 388,
      "metadata": {
        "colab": {
          "base_uri": "https://localhost:8080/",
          "height": 430
        },
        "id": "s3tMEs49ubJl",
        "outputId": "a44c5b31-bc9c-499e-a98f-21c47927f179"
      },
      "outputs": [
        {
          "data": {
            "image/png": "[encoded data removed]",
            "text/plain": [
              "<Figure size 640x480 with 1 Axes>"
            ]
          },
          "metadata": {},
          "output_type": "display_data"
        }
      ],
      "source": [
        "plt.figure()\n",
        "plt.plot(all_losses)\n",
        "plt.show()\n"
      ]
    },
    {
      "cell_type": "markdown",
      "metadata": {},
      "source": [
        "# Testing GRU model"
      ]
    },
    {
      "cell_type": "code",
      "execution_count": 389,
      "metadata": {
        "id": "u6EfK26hiVCI"
      },
      "outputs": [],
      "source": [
        "def validate(gru: nn.Module, inputs: torch.Tensor, outputs: torch.Tensor) -> float:\n",
        "    gru.eval()\n",
        "    count = 0\n",
        "\n",
        "    with torch.no_grad():\n",
        "        for i in range(len(inputs)):\n",
        "            input_tensor, output_tensor = inputs[i], outputs[i]\n",
        "            hidden = gru.init_hidden()\n",
        "\n",
        "            output, hidden = gru(input_tensor, hidden)\n",
        "\n",
        "            _, top_i = output.topk(1)\n",
        "            count += (output_tensor[-1].item() == top_i[0].item())\n",
        "\n",
        "    return count / len(inputs)\n"
      ]
    },
    {
      "cell_type": "code",
      "execution_count": 390,
      "metadata": {
        "colab": {
          "base_uri": "https://localhost:8080/"
        },
        "id": "t58ATjfojnxR",
        "outputId": "2e93ebbe-9600-40aa-dbc6-e5e80efac066"
      },
      "outputs": [
        {
          "data": {
            "text/plain": [
              "0.693925"
            ]
          },
          "execution_count": 390,
          "metadata": {},
          "output_type": "execute_result"
        }
      ],
      "source": [
        "validate(gru, train_inputs, train_outputs)\n"
      ]
    },
    {
      "cell_type": "code",
      "execution_count": 391,
      "metadata": {},
      "outputs": [
        {
          "data": {
            "text/plain": [
              "0.6926833333333333"
            ]
          },
          "execution_count": 391,
          "metadata": {},
          "output_type": "execute_result"
        }
      ],
      "source": [
        "validate(gru, test_inputs, test_outputs)\n"
      ]
    },
    {
      "cell_type": "markdown",
      "metadata": {},
      "source": [
        "# Running on sample data"
      ]
    },
    {
      "cell_type": "code",
      "execution_count": 392,
      "metadata": {
        "id": "vnz-OO7Ir-Ee"
      },
      "outputs": [],
      "source": [
        "def evaluate_continuous(gru: nn.Module, positions: torch.Tensor, intervals: torch.Tensor, fingerings: torch.Tensor, window_size: int = N_NOTES):\n",
        "    fingerings = fingerings[:TARGET_INDEX] + [0] * (N_NOTES - TARGET_INDEX)\n",
        "    gru.eval()\n",
        "\n",
        "    with torch.no_grad():\n",
        "        for i in range(len(positions) - window_size + 1):\n",
        "            position_tensor = create_positions_tensor([positions[i: i + window_size]])\n",
        "            interval_tensor = create_intervals_tensor([intervals[i: i + window_size - 1]])\n",
        "        \n",
        "            fingering_one_hot_tensor = create_fingerings_one_hot_tensor([fingerings[i: i + window_size]])\n",
        "\n",
        "            input_tensor = torch.cat((position_tensor, interval_tensor, fingering_one_hot_tensor), dim=2)[0]\n",
        "            hidden = gru.init_hidden()\n",
        "\n",
        "            output, hidden = gru(input_tensor, hidden)\n",
        "\n",
        "            _, top_i = output.topk(1)\n",
        "            fingerings[i + TARGET_INDEX] = top_i[0].item()\n",
        "            fingerings.append(0)\n",
        "\n",
        "    return fingerings[:-1]\n"
      ]
    },
    {
      "cell_type": "code",
      "execution_count": 393,
      "metadata": {
        "colab": {
          "base_uri": "https://localhost:8080/"
        },
        "id": "1_zYE5-zuDIy",
        "outputId": "995dea46-ffc2-42c9-c1ef-1679559a32ac"
      },
      "outputs": [
        {
          "data": {
            "text/plain": [
              "[5, 1, 2, 3, 4, 1, 5, 1, 3, 1, 5, 2, 5, 0, 0, 0, 0, 0]"
            ]
          },
          "execution_count": 393,
          "metadata": {},
          "output_type": "execute_result"
        }
      ],
      "source": [
        "DATA_1 = (\n",
        "    [8, 0, 2, 3, 5, 2, 7, 10, 0, 2, 3, 0, 5, 7, 8, 10, 0, 8],\n",
        "    [-8, 2, 1, 2, -3, 5, -9, 2, 2, 1, -3, 5, -10, 1, 2, 2, -4],\n",
        "    [5, 1, 2],\n",
        ")\n",
        "DATA_2 = (\n",
        "    [6, 0, 11, 2, 5, 3, 6, 7, 11, 8, 0, 2, 5, 3, 6, 7, 11],\n",
        "    [6, -1, 3, 3, -2, 3, 1, 4, -3, 4, 2, 3, -2, 3, 2, 4],\n",
        "    [1, 3, 2],\n",
        ")\n",
        "\n",
        "evaluate_continuous(gru, *DATA_2)\n"
      ]
    },
    {
      "cell_type": "markdown",
      "metadata": {},
      "source": [
        "# Saving GRU model"
      ]
    },
    {
      "cell_type": "code",
      "execution_count": 328,
      "metadata": {
        "id": "Sj7Nfoa-qzB4"
      },
      "outputs": [],
      "source": [
        "torch.save(gru.state_dict(), \"model_gru_len9_3-16.pt\")\n"
      ]
    }
  ],
  "metadata": {
    "colab": {
      "provenance": []
    },
    "kernelspec": {
      "display_name": "Python 3",
      "name": "python3"
    },
    "language_info": {
      "codemirror_mode": {
        "name": "ipython",
        "version": 3
      },
      "file_extension": ".py",
      "mimetype": "text/x-python",
      "name": "python",
      "nbconvert_exporter": "python",
      "pygments_lexer": "ipython3",
      "version": "3.10.11"
    }
  },
  "nbformat": 4,
  "nbformat_minor": 0
}
